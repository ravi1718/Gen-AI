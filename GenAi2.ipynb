{
  "nbformat": 4,
  "nbformat_minor": 0,
  "metadata": {
    "colab": {
      "provenance": [],
      "gpuType": "T4",
      "authorship_tag": "ABX9TyN6/RZmdZIgTIxvbEO2oeuh",
      "include_colab_link": true
    },
    "kernelspec": {
      "name": "python3",
      "display_name": "Python 3"
    },
    "language_info": {
      "name": "python"
    },
    "accelerator": "GPU"
  },
  "cells": [
    {
      "cell_type": "markdown",
      "metadata": {
        "id": "view-in-github",
        "colab_type": "text"
      },
      "source": [
        "<a href=\"https://colab.research.google.com/github/ravi1718/Gen-AI/blob/main/GenAi2.ipynb\" target=\"_parent\"><img src=\"https://colab.research.google.com/assets/colab-badge.svg\" alt=\"Open In Colab\"/></a>"
      ]
    },
    {
      "cell_type": "code",
      "execution_count": 1,
      "metadata": {
        "colab": {
          "base_uri": "https://localhost:8080/"
        },
        "id": "B1BnkJPb1V7B",
        "outputId": "d7965e3c-68cb-4ab7-90be-7f6fce5244aa"
      },
      "outputs": [
        {
          "output_type": "stream",
          "name": "stdout",
          "text": [
            "\u001b[?25l   \u001b[90m━━━━━━━━━━━━━━━━━━━━━━━━━━━━━━━━━━━━━━━━\u001b[0m \u001b[32m0.0/155.4 kB\u001b[0m \u001b[31m?\u001b[0m eta \u001b[36m-:--:--\u001b[0m\r\u001b[2K   \u001b[90m━━━━━━━━━━━━━━━━━━━━━━━━━━━━━━━━━━━━━━━━\u001b[0m \u001b[32m155.4/155.4 kB\u001b[0m \u001b[31m5.5 MB/s\u001b[0m eta \u001b[36m0:00:00\u001b[0m\n",
            "\u001b[?25h"
          ]
        }
      ],
      "source": [
        "!pip install -q -U google-generativeai"
      ]
    },
    {
      "cell_type": "code",
      "source": [
        "import google.generativeai as genai\n",
        "import pathlib\n",
        "import textwrap\n",
        "from IPython.display import display\n",
        "from IPython.display import Markdown"
      ],
      "metadata": {
        "id": "sWmfUK8f1r0O"
      },
      "execution_count": 3,
      "outputs": []
    },
    {
      "cell_type": "code",
      "source": [
        "def to_markdown(text):\n",
        "  text = text.replace('•', '  *')\n",
        "  return Markdown(textwrap.indent(text, '> ', predicate=lambda _: True))\n",
        "\n",
        "\n",
        "# Example usage:\n",
        "input_text = \"This is a • sample text with bullet points.\"\n",
        "result = to_markdown(input_text)\n",
        "\n",
        "display(result)"
      ],
      "metadata": {
        "colab": {
          "base_uri": "https://localhost:8080/",
          "height": 62
        },
        "id": "bZqDX9sP1zCu",
        "outputId": "44740ad6-b0ba-4a4e-f810-a13d6c6cc92c"
      },
      "execution_count": 12,
      "outputs": [
        {
          "output_type": "display_data",
          "data": {
            "text/plain": [
              "<IPython.core.display.Markdown object>"
            ],
            "text/markdown": "> This is a   * sample text with bullet points."
          },
          "metadata": {}
        }
      ]
    },
    {
      "cell_type": "code",
      "source": [
        "from google.colab import userdata"
      ],
      "metadata": {
        "id": "CCfJ7l3u11KF"
      },
      "execution_count": 6,
      "outputs": []
    },
    {
      "cell_type": "code",
      "source": [
        "GOOGLE_API_KEY = userdata.get('GOOGLE_API_KEY')"
      ],
      "metadata": {
        "id": "ZQqeVdRD13j9"
      },
      "execution_count": 7,
      "outputs": []
    },
    {
      "cell_type": "code",
      "source": [
        "genai.configure(api_key=GOOGLE_API_KEY)"
      ],
      "metadata": {
        "id": "hmzJMJ_d19Pl"
      },
      "execution_count": 8,
      "outputs": []
    },
    {
      "cell_type": "code",
      "source": [
        "for models in genai.list_models():\n",
        "  if 'generateContent' in models.supported_generation_methods:\n",
        "    print(models.name)"
      ],
      "metadata": {
        "colab": {
          "base_uri": "https://localhost:8080/",
          "height": 694
        },
        "id": "azxeGb6d1-Qk",
        "outputId": "662cfca7-6d64-464e-fe7b-c4e047e721a3"
      },
      "execution_count": 9,
      "outputs": [
        {
          "output_type": "stream",
          "name": "stdout",
          "text": [
            "models/gemini-1.0-pro-vision-latest\n",
            "models/gemini-pro-vision\n",
            "models/gemini-1.5-pro-latest\n",
            "models/gemini-1.5-pro-001\n",
            "models/gemini-1.5-pro-002\n",
            "models/gemini-1.5-pro\n",
            "models/gemini-1.5-flash-latest\n",
            "models/gemini-1.5-flash-001\n",
            "models/gemini-1.5-flash-001-tuning\n",
            "models/gemini-1.5-flash\n",
            "models/gemini-1.5-flash-002\n",
            "models/gemini-1.5-flash-8b\n",
            "models/gemini-1.5-flash-8b-001\n",
            "models/gemini-1.5-flash-8b-latest\n",
            "models/gemini-1.5-flash-8b-exp-0827\n",
            "models/gemini-1.5-flash-8b-exp-0924\n",
            "models/gemini-2.5-pro-exp-03-25\n",
            "models/gemini-2.5-pro-preview-03-25\n",
            "models/gemini-2.5-flash-preview-04-17\n",
            "models/gemini-2.0-flash-exp\n",
            "models/gemini-2.0-flash\n",
            "models/gemini-2.0-flash-001\n",
            "models/gemini-2.0-flash-exp-image-generation\n",
            "models/gemini-2.0-flash-lite-001\n",
            "models/gemini-2.0-flash-lite\n",
            "models/gemini-2.0-flash-lite-preview-02-05\n",
            "models/gemini-2.0-flash-lite-preview\n",
            "models/gemini-2.0-pro-exp\n",
            "models/gemini-2.0-pro-exp-02-05\n",
            "models/gemini-exp-1206\n",
            "models/gemini-2.0-flash-thinking-exp-01-21\n",
            "models/gemini-2.0-flash-thinking-exp\n",
            "models/gemini-2.0-flash-thinking-exp-1219\n",
            "models/learnlm-1.5-pro-experimental\n",
            "models/learnlm-2.0-flash-experimental\n",
            "models/gemma-3-1b-it\n",
            "models/gemma-3-4b-it\n",
            "models/gemma-3-12b-it\n",
            "models/gemma-3-27b-it\n"
          ]
        }
      ]
    },
    {
      "cell_type": "code",
      "source": [
        "model = genai.GenerativeModel('gemini-2.0-flash')"
      ],
      "metadata": {
        "id": "v6sPb2e22ByF"
      },
      "execution_count": 10,
      "outputs": []
    },
    {
      "cell_type": "code",
      "source": [
        "%%time\n",
        "response = model.generate_content(\"What is the meaning of Cricket\")\n",
        "to_markdown(response.text)"
      ],
      "metadata": {
        "colab": {
          "base_uri": "https://localhost:8080/",
          "height": 457
        },
        "id": "oa0zRdTL3MPv",
        "outputId": "547be0b7-91b1-4706-e169-db9731131c19"
      },
      "execution_count": 13,
      "outputs": [
        {
          "output_type": "stream",
          "name": "stdout",
          "text": [
            "CPU times: user 37.4 ms, sys: 3.26 ms, total: 40.6 ms\n",
            "Wall time: 3.89 s\n"
          ]
        },
        {
          "output_type": "execute_result",
          "data": {
            "text/plain": [
              "<IPython.core.display.Markdown object>"
            ],
            "text/markdown": "> Cricket is a bat-and-ball sport played between two teams of 11 players on a field, at the center of which is a 22-yard rectangular pitch. Here's a breakdown of its key elements:\n> \n> *   **Objective:** The goal is to score more runs than the opposing team.\n> \n> *   **Gameplay:**\n>     *   One team bats, trying to score runs, while the other team bowls and fields, trying to dismiss the batters.\n>     *   The batting team sends out pairs of batters. One batter tries to hit the ball bowled by the bowler from the opposing team.\n>     *   If the batter hits the ball, they can run between two sets of wickets (three vertical sticks) to score runs.\n>     *   The fielding team tries to get batters \"out\" through various methods such as catching the ball, hitting the wickets with the ball while the batter is not in their crease, or through a decision from the umpire.\n>     *   Once a certain number of batters are out (usually 10), the innings ends, and the teams switch roles.\n> \n> *   **Scoring:** Runs are scored primarily by running between the wickets, but also through boundaries (hitting the ball to or over the edge of the field).\n> \n> *   **Variations:** Cricket has different formats, from Test matches that can last for five days to shorter, faster-paced formats like Twenty20 (T20) matches.\n> \n> Beyond the basic mechanics, cricket is also known for:\n> \n> *   **Strategy:** It involves complex strategic thinking by captains and coaches, especially in longer formats.\n> *   **Tradition:** It has a rich history and many traditions, often seen as embodying ideals of sportsmanship (though this is sometimes challenged).\n> *   **Global Popularity:** It's hugely popular in countries like India, Australia, England, Pakistan, and the West Indies, among others.\n> *   **Culture:** It's more than just a game; it's deeply intertwined with the culture and identity of many nations.\n> \n> In short, cricket is a complex, strategic, and culturally significant sport played with a bat and ball between two teams, aiming to score the most runs.\n"
          },
          "metadata": {},
          "execution_count": 13
        }
      ]
    },
    {
      "cell_type": "markdown",
      "source": [
        "Generation Configuration\n"
      ],
      "metadata": {
        "id": "umsc366M7Xx_"
      }
    },
    {
      "cell_type": "code",
      "source": [
        "response = model.generate_content(\n",
        "    \"Tell me the story about avengers\",\n",
        "    generation_config=genai.types.GenerationConfig(\n",
        "        candidate_count=1,\n",
        "        stop_sequences=['x'],\n",
        "        max_output_tokens=500,\n",
        "        temperature=1.0\n",
        "    )\n",
        ")"
      ],
      "metadata": {
        "id": "_1hovdd94NQc"
      },
      "execution_count": 30,
      "outputs": []
    },
    {
      "cell_type": "code",
      "source": [
        "to_markdown(response.text)"
      ],
      "metadata": {
        "colab": {
          "base_uri": "https://localhost:8080/",
          "height": 144
        },
        "id": "Z9WsDzj75r7Y",
        "outputId": "c0dc6b65-bdf6-42f9-f5ea-fe7bda4befb1"
      },
      "execution_count": 31,
      "outputs": [
        {
          "output_type": "execute_result",
          "data": {
            "text/plain": [
              "<IPython.core.display.Markdown object>"
            ],
            "text/markdown": "> The story of the Avengers is a sprawling, decades-long saga filled with heroism, sacrifice, loss, and ultimately, hope. Here's a condensed version that hits the key points:\n> \n> **The Seeds of an Idea:**\n> \n> *   **Emergence of Superhumans:** In the aftermath of World War II, heroes like Captain America and events like the bombing of Hiroshima (which influenced characters like Hulk) revealed the e"
          },
          "metadata": {},
          "execution_count": 31
        }
      ]
    },
    {
      "cell_type": "code",
      "source": [
        "model"
      ],
      "metadata": {
        "colab": {
          "base_uri": "https://localhost:8080/"
        },
        "id": "ylW_8Icd5wiu",
        "outputId": "1a01c1e7-5974-4ae2-b9f1-b80278b059cf"
      },
      "execution_count": 32,
      "outputs": [
        {
          "output_type": "execute_result",
          "data": {
            "text/plain": [
              "genai.GenerativeModel(\n",
              "    model_name='models/gemini-2.0-flash',\n",
              "    generation_config={},\n",
              "    safety_settings={},\n",
              "    tools=None,\n",
              "    system_instruction=None,\n",
              "    cached_content=None\n",
              ")"
            ]
          },
          "metadata": {},
          "execution_count": 32
        }
      ]
    },
    {
      "cell_type": "code",
      "source": [
        "model.generate_content(\"Can you describe  images by looking at it?\").text"
      ],
      "metadata": {
        "colab": {
          "base_uri": "https://localhost:8080/",
          "height": 123
        },
        "id": "qWpRisEQ7jT2",
        "outputId": "6c54379e-ad72-429c-8317-756fb9f45555"
      },
      "execution_count": 34,
      "outputs": [
        {
          "output_type": "execute_result",
          "data": {
            "text/plain": [
              "'Yes, I can! While I don\\'t have physical eyes, I can \"look at\" an image by processing the data it contains. When you provide me with an image (either by uploading it or giving me a URL), I use my image recognition capabilities to analyze it. Here\\'s what I can typically do:\\n\\n**Basic Image Description:**\\n\\n*   **Identify objects:** I can recognize a wide variety of objects, such as people, animals, plants, cars, buildings, furniture, food, and more.\\n*   **Recognize scenes:** I can identify common scenes, such as a beach, a forest, a city street, a kitchen, a bedroom, etc.\\n*   **Identify colors:** I can describe the prominent colors in the image.\\n*   **Determine the overall quality:** I can often tell if an image is blurry, dark, overexposed, or has other quality issues.\\n\\n**More Detailed Analysis (depending on the image and my confidence):**\\n\\n*   **Identify people:** I can sometimes recognize famous people (celebrities, politicians, etc.) or distinguish between men and women, adults and children.\\n*   **Describe actions:** I can often infer actions or activities taking place in the image (e.g., someone is running, eating, talking).\\n*   **Identify emotions:** I can sometimes detect emotions displayed by people in the image (e.g., happiness, sadness, anger).  This is a more challenging area and can be less accurate.\\n*   **Identify landmarks:** I can identify famous landmarks or buildings.\\n*   **Read text:** If there is text in the image, I can sometimes read it using Optical Character Recognition (OCR).\\n*   **Provide contextual information:** Based on the objects and scene, I can often infer the context of the image (e.g., a birthday party, a sporting event, a concert).\\n*   **Identify brands:** I can sometimes identify logos or brands present in the image.\\n\\n**How it Works (Simplified):**\\n\\n1.  **Image Input:** You provide me with the image.\\n2.  **Feature Extraction:** I use convolutional neural networks (CNNs) and other techniques to extract visual features from the image. These features represent edges, shapes, textures, and colors.\\n3.  **Object Detection & Classification:**  My models compare these extracted features against a vast database of trained objects and scenes. This allows me to identify what\\'s likely present in the image.\\n4.  **Relationship Analysis:** I analyze the relationships between the identified objects and their positions within the image to understand the overall scene and context.\\n5.  **Text Generation:** I then generate a textual description of the image based on my analysis.\\n\\n**To get the best results, please keep in mind:**\\n\\n*   **Image quality matters:** The clearer and more well-lit the image, the more accurate my analysis will be.\\n*   **Complexity matters:**  Very complex images with many objects and actions can be more challenging.\\n*   **My limitations:**  I\\'m not perfect!  I can sometimes make mistakes, especially with unusual or ambiguous images. I may also struggle with abstract concepts or subtle details.\\n\\n**To get a description, simply provide me with an image!** (If you\\'re using a chat interface, there\\'s usually an upload button. You can also provide a URL if the image is hosted online.)  I\\'m ready to give it a try! Just upload or link me to an image.\\n'"
            ],
            "application/vnd.google.colaboratory.intrinsic+json": {
              "type": "string"
            }
          },
          "metadata": {},
          "execution_count": 34
        }
      ]
    },
    {
      "cell_type": "code",
      "source": [
        "response = model.generate_content(\n",
        "    \"Generate a social media post for a gym owner who wants to make his gym grow through social media \",\n",
        "\n",
        "    )"
      ],
      "metadata": {
        "id": "FXzqGsfO7_jH"
      },
      "execution_count": 38,
      "outputs": []
    },
    {
      "cell_type": "code",
      "source": [
        "to_markdown(response.text)"
      ],
      "metadata": {
        "colab": {
          "base_uri": "https://localhost:8080/",
          "height": 1000
        },
        "id": "4YGeYaCy9ESi",
        "outputId": "66e0e93a-d124-4102-d598-464fca7a32de"
      },
      "execution_count": 39,
      "outputs": [
        {
          "output_type": "execute_result",
          "data": {
            "text/plain": [
              "<IPython.core.display.Markdown object>"
            ],
            "text/markdown": "> Okay, here are a few options for a social media post for a gym owner, designed to help grow their gym through social media, along with explanations of why they're effective:\n> \n> **Option 1: Focus on Community & Results (Image/Video: Members working out together, smiling, high-fiving, or a short testimonial video)**\n> \n> **Post Text:**\n> \n> > \"Tired of feeling lost in a crowded gym? At [Your Gym Name], we're more than just a gym, we're a family! 💪 We're dedicated to helping you reach your fitness goals with personalized training, supportive coaches, and a community that will cheer you on every step of the way.\n> \n> > Check out [Member Name] crushing their workout and celebrating their progress! 🎉\n> \n> > Ready to join the [Your Gym Name] family and unlock your potential?\n> \n> > 🔥 **This week only: Get a FREE consultation and trial week!** 🔥\n> \n> > Click the link in our bio to sign up!\n> \n> > #GymFamily #FitnessMotivation #CommunityGym #[YourCity]Fitness #SupportLocal #[YourGymName] #FitnessJourney #NoExcuses #HealthyLifestyle #GymLife\"\n> \n> **Why it's effective:**\n> \n> *   **Community Focus:** Highlights the social aspect, which is a big draw for many people.\n> *   **Social Proof:** Shows real members achieving results.\n> *   **Clear Call to Action:**  Tells people exactly what to do (click the link).\n> *   **Limited-Time Offer:** Creates urgency.\n> *   **Relevant Hashtags:**  Increases visibility to people searching for fitness options.\n> *   **Image/Video:**  Visually appealing and engaging.\n> \n> **Option 2:  Highlighting Expertise & Addressing Pain Points (Image:  You/a trainer demonstrating a correct exercise form, or a before-and-after photo – with permission!)**\n> \n> **Post Text:**\n> \n> > \"Are you struggling with [Common Fitness Problem your target audience faces, e.g., back pain, lack of motivation, not seeing results]? 😩\n> \n> > At [Your Gym Name], our certified trainers understand your challenges and provide expert guidance to help you achieve your goals safely and effectively. We focus on [Your Gym's Speciality, e.g., functional fitness, strength training, weight loss] using [Specific Methodologies, e.g., evidence-based training, personalized nutrition plans].\n> \n> > Learn how we can help you overcome [Fitness Problem] and build a stronger, healthier you!\n> \n> > ➡️ **Download our FREE guide: \"5 Mistakes Preventing You From Reaching Your Fitness Goals\" (Link in bio!)** ➡️\n> \n> > #FitnessTips #ExpertTraining #[YourGymName] #HealthyLiving #[YourCity]Gym #PersonalTraining #StrengthTraining #WeightLoss #FitnessJourney #NoMoreExcuses\"\n> \n> **Why it's effective:**\n> \n> *   **Addresses Pain Points:** Directly speaks to the audience's struggles.\n> *   **Establishes Authority:**  Showcases the gym's expertise and qualified trainers.\n> *   **Provides Value:**  Offers a free guide to attract leads.\n> *   **Specific Focus:**  Highlights the gym's specialization.\n> *   **Targeted Hashtags:**  Reaches people searching for solutions to specific fitness problems.\n> \n> **Option 3:  Behind-the-Scenes & Gym Culture (Image/Video: Short, fun video showing the gym atmosphere, equipment, staff interacting with members, or a tour.)**\n> \n> **Post Text:**\n> \n> > \"Ever wondered what it's like inside [Your Gym Name]? 🤔  Come take a peek!\n> \n> > We're all about creating a fun, energetic, and supportive environment where you can crush your goals and feel your best.  From our state-of-the-art equipment to our awesome community, we've got everything you need to succeed.\n> \n> > Swipe through to see what makes [Your Gym Name] different! ➡️\n> \n> >  **Want to experience the [Your Gym Name] vibe for yourself?  DM us \"FREE WORKOUT\" to claim a complimentary session!**\n> \n> > #GymTour #GymLife #FitnessCommunity #[YourCity]Gym #[YourGymName] #HealthyLifestyle #Motivation #Workout #FitnessMotivation #BehindTheScenes #SupportLocal\"\n> \n> **Why it's effective:**\n> \n> *   **Curiosity-Driven:**  \"Ever wondered?\" encourages engagement.\n> *   **Showcases Personality:**  Gives potential members a feel for the gym's atmosphere.\n> *   **Easy Call to Action:**  Simple DM request makes it easy for people to inquire.\n> *   **Visual Appeal:**  The swipe-through format encourages interaction.\n> *   **Relevant Hashtags:** Helps reach a broader audience interested in gym culture.\n> \n> **General Tips for Success on Social Media (Regardless of the specific post):**\n> \n> *   **High-Quality Visuals:** Use clear, well-lit photos and videos.\n> *   **Consistent Branding:** Maintain a consistent look and feel across your posts (colors, fonts, etc.).\n> *   **Engage with Comments:**  Respond to questions and comments promptly and enthusiastically.\n> *   **Run Contests/Giveaways:**  Increase engagement and attract new followers.\n> *   **Use Instagram Stories:**  Share behind-the-scenes content, quick tips, and polls.\n> *   **Consider Paid Advertising:**  Boost your posts to reach a wider audience.\n> *   **Track Your Results:**  Use social media analytics to see what's working and what's not.  Adjust your strategy accordingly.\n> *   **Be Authentic:**  Let your gym's personality shine through! People connect with genuine content.\n> *   **Post Regularly:**  Consistency is key to staying top-of-mind. Aim for at least 3-5 posts per week.\n> *   **Research Your Audience:** Know what they like, what they care about, and what motivates them.\n> \n> **Before posting, remember to:**\n> \n> *   **Double-check your links:** Make sure they work!\n> *   **Proofread:**  Typos can make you look unprofessional.\n> *   **Consider your timing:**  Post when your target audience is most active.  (Check your analytics for this info).\n> *   **Get permission:** If you are featuring anyone in your images or videos, make sure you have their consent.\n> \n> Good luck growing your gym!  Let me know if you'd like more options or help tailoring these to your specific gym.\n"
          },
          "metadata": {},
          "execution_count": 39
        }
      ]
    },
    {
      "cell_type": "markdown",
      "source": [
        "Chat Conversations history\n"
      ],
      "metadata": {
        "id": "75WVaIg8_1Kq"
      }
    },
    {
      "cell_type": "code",
      "source": [
        "chat=model.start_chat(history=[])"
      ],
      "metadata": {
        "id": "OVw1KHyB9MmN"
      },
      "execution_count": 41,
      "outputs": []
    },
    {
      "cell_type": "code",
      "source": [
        "response=chat.send_message(\"In one sentence explain how computer works to a 10 year old \")"
      ],
      "metadata": {
        "id": "KOazaej_-P4-"
      },
      "execution_count": 42,
      "outputs": []
    },
    {
      "cell_type": "code",
      "source": [
        "to_markdown(response.text)"
      ],
      "metadata": {
        "colab": {
          "base_uri": "https://localhost:8080/",
          "height": 62
        },
        "id": "4VqB2wN5-nYN",
        "outputId": "2243e198-1d90-4753-b4a1-0a218a83aea6"
      },
      "execution_count": 43,
      "outputs": [
        {
          "output_type": "execute_result",
          "data": {
            "text/plain": [
              "<IPython.core.display.Markdown object>"
            ],
            "text/markdown": "> A computer is like a super-fast, organized helper that follows instructions you give it to do things like play games, write stories, or find information.\n"
          },
          "metadata": {},
          "execution_count": 43
        }
      ]
    },
    {
      "cell_type": "code",
      "source": [
        "chat.history"
      ],
      "metadata": {
        "colab": {
          "base_uri": "https://localhost:8080/"
        },
        "id": "8__BpY3c-ryt",
        "outputId": "107e42d3-17b8-4d56-f7a8-22effddf5a59"
      },
      "execution_count": 45,
      "outputs": [
        {
          "output_type": "execute_result",
          "data": {
            "text/plain": [
              "[parts {\n",
              "   text: \"In one sentence explain how computer works to a 10 year old \"\n",
              " }\n",
              " role: \"user\",\n",
              " parts {\n",
              "   text: \"A computer is like a super-fast, organized helper that follows instructions you give it to do things like play games, write stories, or find information.\\n\"\n",
              " }\n",
              " role: \"model\"]"
            ]
          },
          "metadata": {},
          "execution_count": 45
        }
      ]
    },
    {
      "cell_type": "code",
      "source": [
        "response = chat.send_message(\"ok, how about a bit more detailed explanation to an engineering student\")\n",
        "to_markdown(response.text)"
      ],
      "metadata": {
        "colab": {
          "base_uri": "https://localhost:8080/",
          "height": 97
        },
        "id": "xQ2bJK-Z-9um",
        "outputId": "6ace9f7d-e554-4360-ef63-55b85de9ad9b"
      },
      "execution_count": 46,
      "outputs": [
        {
          "output_type": "execute_result",
          "data": {
            "text/plain": [
              "<IPython.core.display.Markdown object>"
            ],
            "text/markdown": "> A computer fundamentally operates by executing instructions fetched from memory, decoded by the control unit, and performed by the arithmetic logic unit (ALU) on binary data represented by transistors; these operations are orchestrated by a clock signal and managed by an operating system to create complex software functionalities from low-level hardware interactions.\n"
          },
          "metadata": {},
          "execution_count": 46
        }
      ]
    },
    {
      "cell_type": "code",
      "source": [
        "chat.history"
      ],
      "metadata": {
        "colab": {
          "base_uri": "https://localhost:8080/"
        },
        "id": "m9Ok1aQ5_Wzg",
        "outputId": "451fa787-6eb2-455b-dd8f-6ef2a6b924d8"
      },
      "execution_count": 47,
      "outputs": [
        {
          "output_type": "execute_result",
          "data": {
            "text/plain": [
              "[parts {\n",
              "   text: \"In one sentence explain how computer works to a 10 year old \"\n",
              " }\n",
              " role: \"user\",\n",
              " parts {\n",
              "   text: \"A computer is like a super-fast, organized helper that follows instructions you give it to do things like play games, write stories, or find information.\\n\"\n",
              " }\n",
              " role: \"model\",\n",
              " parts {\n",
              "   text: \"ok, how about a bit more detailed explanation to an engineering student\"\n",
              " }\n",
              " role: \"user\",\n",
              " parts {\n",
              "   text: \"A computer fundamentally operates by executing instructions fetched from memory, decoded by the control unit, and performed by the arithmetic logic unit (ALU) on binary data represented by transistors; these operations are orchestrated by a clock signal and managed by an operating system to create complex software functionalities from low-level hardware interactions.\\n\"\n",
              " }\n",
              " role: \"model\"]"
            ]
          },
          "metadata": {},
          "execution_count": 47
        }
      ]
    },
    {
      "cell_type": "code",
      "source": [
        "for message in chat.history:\n",
        "  display(to_markdown(f'**{message.role}**: {message.parts[0].text}'))"
      ],
      "metadata": {
        "colab": {
          "base_uri": "https://localhost:8080/",
          "height": 208
        },
        "id": "UQnV9tDs_czu",
        "outputId": "06be6ef4-cd7b-4d64-8a3c-b5ef60956fad"
      },
      "execution_count": 53,
      "outputs": [
        {
          "output_type": "display_data",
          "data": {
            "text/plain": [
              "<IPython.core.display.Markdown object>"
            ],
            "text/markdown": "> **user**: In one sentence explain how computer works to a 10 year old "
          },
          "metadata": {}
        },
        {
          "output_type": "display_data",
          "data": {
            "text/plain": [
              "<IPython.core.display.Markdown object>"
            ],
            "text/markdown": "> **model**: A computer is like a super-fast, organized helper that follows instructions you give it to do things like play games, write stories, or find information.\n"
          },
          "metadata": {}
        },
        {
          "output_type": "display_data",
          "data": {
            "text/plain": [
              "<IPython.core.display.Markdown object>"
            ],
            "text/markdown": "> **user**: ok, how about a bit more detailed explanation to an engineering student"
          },
          "metadata": {}
        },
        {
          "output_type": "display_data",
          "data": {
            "text/plain": [
              "<IPython.core.display.Markdown object>"
            ],
            "text/markdown": "> **model**: A computer fundamentally operates by executing instructions fetched from memory, decoded by the control unit, and performed by the arithmetic logic unit (ALU) on binary data represented by transistors; these operations are orchestrated by a clock signal and managed by an operating system to create complex software functionalities from low-level hardware interactions.\n"
          },
          "metadata": {}
        }
      ]
    },
    {
      "cell_type": "markdown",
      "source": [
        "COUNT TOKENS"
      ],
      "metadata": {
        "id": "M3I-aYtEAjCD"
      }
    },
    {
      "cell_type": "code",
      "source": [
        "model.count_tokens(\"Tell me about avengers\")"
      ],
      "metadata": {
        "colab": {
          "base_uri": "https://localhost:8080/",
          "height": 34
        },
        "id": "uRz24Xf5ATdZ",
        "outputId": "fb7e9b1b-8dc7-4126-be6a-7e0b334e5c1e"
      },
      "execution_count": 54,
      "outputs": [
        {
          "output_type": "execute_result",
          "data": {
            "text/plain": [
              "total_tokens: 5"
            ]
          },
          "metadata": {},
          "execution_count": 54
        }
      ]
    },
    {
      "cell_type": "code",
      "source": [],
      "metadata": {
        "id": "McH8KQoQAuJQ"
      },
      "execution_count": null,
      "outputs": []
    }
  ]
}